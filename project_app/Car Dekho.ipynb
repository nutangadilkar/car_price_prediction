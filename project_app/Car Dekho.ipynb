{
 "cells": [
  {
   "cell_type": "code",
   "execution_count": 1,
   "id": "1bb27a52",
   "metadata": {},
   "outputs": [],
   "source": [
    "import pandas as pd\n",
    "import numpy as np\n",
    "import seaborn as sns\n",
    "import matplotlib.pyplot as plt\n",
    "import plotly.express as px\n",
    "import plotly.io as pio\n",
    "import scipy.stats as st\n",
    "import math\n",
    "import datetime\n",
    "from scipy.stats import norm, skew\n",
    "from sklearn import metrics\n",
    "from collections import Counter\n",
    "\n",
    "from sklearn.preprocessing import LabelEncoder\n",
    "from sklearn.preprocessing import MinMaxScaler, RobustScaler, StandardScaler\n",
    "from sklearn.model_selection import train_test_split\n",
    "from sklearn.linear_model import LinearRegression\n",
    "from sklearn.metrics import mean_squared_error, mean_absolute_error, r2_score\n",
    "from sklearn import model_selection\n",
    "from sklearn.pipeline import make_pipeline\n",
    "\n",
    "\n",
    "\n",
    "from sklearn.svm import SVR\n",
    "from sklearn.ensemble import RandomForestRegressor, GradientBoostingRegressor\n",
    "from sklearn.linear_model import Ridge, RidgeCV, Lasso, LassoCV\n",
    "\n",
    "\n",
    "\n",
    "# to ignore warnings\n",
    "import warnings\n",
    "warnings.filterwarnings(\"ignore\")\n",
    "\n",
    "#to see model hyperparameters\n",
    "from sklearn import set_config\n",
    "set_config(print_changed_only = False)\n",
    "\n",
    "# to show all columns\n",
    "pd.set_option('display.max_columns', None)"
   ]
  },
  {
   "cell_type": "code",
   "execution_count": 2,
   "id": "e0cf2f7a",
   "metadata": {},
   "outputs": [
    {
     "data": {
      "text/plain": [
       "Index(['name', 'year', 'selling_price', 'km_driven', 'fuel', 'seller_type',\n",
       "       'transmission', 'owner'],\n",
       "      dtype='object')"
      ]
     },
     "execution_count": 2,
     "metadata": {},
     "output_type": "execute_result"
    }
   ],
   "source": [
    "df  = pd.read_csv(\"CAR DETAILS FROM CAR DEKHO.csv\")\n",
    "df.columns"
   ]
  },
  {
   "cell_type": "code",
   "execution_count": 3,
   "id": "e5f2eed2",
   "metadata": {},
   "outputs": [
    {
     "name": "stdout",
     "output_type": "stream",
     "text": [
      "<class 'pandas.core.frame.DataFrame'>\n",
      "RangeIndex: 4340 entries, 0 to 4339\n",
      "Data columns (total 8 columns):\n",
      " #   Column         Non-Null Count  Dtype \n",
      "---  ------         --------------  ----- \n",
      " 0   name           4340 non-null   object\n",
      " 1   year           4340 non-null   int64 \n",
      " 2   selling_price  4340 non-null   int64 \n",
      " 3   km_driven      4340 non-null   int64 \n",
      " 4   fuel           4340 non-null   object\n",
      " 5   seller_type    4340 non-null   object\n",
      " 6   transmission   4340 non-null   object\n",
      " 7   owner          4340 non-null   object\n",
      "dtypes: int64(3), object(5)\n",
      "memory usage: 271.4+ KB\n"
     ]
    }
   ],
   "source": [
    "df.info()"
   ]
  },
  {
   "cell_type": "code",
   "execution_count": 4,
   "id": "25bc36ef",
   "metadata": {},
   "outputs": [],
   "source": [
    "df[\"car_brand_name\"] = df[\"name\"].str.extract('([^\\s]+)')\n",
    "df[\"car_brand_name\"] = df[\"car_brand_name\"].astype(\"category\")"
   ]
  },
  {
   "cell_type": "code",
   "execution_count": 5,
   "id": "d4cd736b",
   "metadata": {},
   "outputs": [],
   "source": [
    "df.drop([\"name\", \"year\"], axis = 1, inplace = True)"
   ]
  },
  {
   "cell_type": "code",
   "execution_count": 6,
   "id": "3357a46f",
   "metadata": {},
   "outputs": [
    {
     "data": {
      "text/html": [
       "<style type=\"text/css\">\n",
       "#T_b6480_row0_col0, #T_b6480_row3_col1 {\n",
       "  background-color: #008066;\n",
       "  color: #f1f1f1;\n",
       "}\n",
       "#T_b6480_row0_col1 {\n",
       "  background-color: #40a066;\n",
       "  color: #f1f1f1;\n",
       "}\n",
       "#T_b6480_row1_col0 {\n",
       "  background-color: #239166;\n",
       "  color: #f1f1f1;\n",
       "}\n",
       "#T_b6480_row1_col1 {\n",
       "  background-color: #0a8466;\n",
       "  color: #f1f1f1;\n",
       "}\n",
       "#T_b6480_row2_col0, #T_b6480_row4_col1 {\n",
       "  background-color: #ffff66;\n",
       "  color: #000000;\n",
       "}\n",
       "#T_b6480_row2_col1 {\n",
       "  background-color: #91c866;\n",
       "  color: #000000;\n",
       "}\n",
       "#T_b6480_row3_col0 {\n",
       "  background-color: #5aac66;\n",
       "  color: #f1f1f1;\n",
       "}\n",
       "#T_b6480_row4_col0 {\n",
       "  background-color: #b8dc66;\n",
       "  color: #000000;\n",
       "}\n",
       "</style>\n",
       "<table id=\"T_b6480\">\n",
       "  <thead>\n",
       "    <tr>\n",
       "      <th class=\"blank level0\" >&nbsp;</th>\n",
       "      <th id=\"T_b6480_level0_col0\" class=\"col_heading level0 col0\" >selling_price</th>\n",
       "      <th id=\"T_b6480_level0_col1\" class=\"col_heading level0 col1\" >km_driven</th>\n",
       "      <th id=\"T_b6480_level0_col2\" class=\"col_heading level0 col2\" >fuel</th>\n",
       "      <th id=\"T_b6480_level0_col3\" class=\"col_heading level0 col3\" >seller_type</th>\n",
       "      <th id=\"T_b6480_level0_col4\" class=\"col_heading level0 col4\" >transmission</th>\n",
       "      <th id=\"T_b6480_level0_col5\" class=\"col_heading level0 col5\" >owner</th>\n",
       "      <th id=\"T_b6480_level0_col6\" class=\"col_heading level0 col6\" >car_brand_name</th>\n",
       "    </tr>\n",
       "  </thead>\n",
       "  <tbody>\n",
       "    <tr>\n",
       "      <th id=\"T_b6480_level0_row0\" class=\"row_heading level0 row0\" >0</th>\n",
       "      <td id=\"T_b6480_row0_col0\" class=\"data row0 col0\" >60000</td>\n",
       "      <td id=\"T_b6480_row0_col1\" class=\"data row0 col1\" >70000</td>\n",
       "      <td id=\"T_b6480_row0_col2\" class=\"data row0 col2\" >Petrol</td>\n",
       "      <td id=\"T_b6480_row0_col3\" class=\"data row0 col3\" >Individual</td>\n",
       "      <td id=\"T_b6480_row0_col4\" class=\"data row0 col4\" >Manual</td>\n",
       "      <td id=\"T_b6480_row0_col5\" class=\"data row0 col5\" >First Owner</td>\n",
       "      <td id=\"T_b6480_row0_col6\" class=\"data row0 col6\" >Maruti</td>\n",
       "    </tr>\n",
       "    <tr>\n",
       "      <th id=\"T_b6480_level0_row1\" class=\"row_heading level0 row1\" >1</th>\n",
       "      <td id=\"T_b6480_row1_col0\" class=\"data row1 col0\" >135000</td>\n",
       "      <td id=\"T_b6480_row1_col1\" class=\"data row1 col1\" >50000</td>\n",
       "      <td id=\"T_b6480_row1_col2\" class=\"data row1 col2\" >Petrol</td>\n",
       "      <td id=\"T_b6480_row1_col3\" class=\"data row1 col3\" >Individual</td>\n",
       "      <td id=\"T_b6480_row1_col4\" class=\"data row1 col4\" >Manual</td>\n",
       "      <td id=\"T_b6480_row1_col5\" class=\"data row1 col5\" >First Owner</td>\n",
       "      <td id=\"T_b6480_row1_col6\" class=\"data row1 col6\" >Maruti</td>\n",
       "    </tr>\n",
       "    <tr>\n",
       "      <th id=\"T_b6480_level0_row2\" class=\"row_heading level0 row2\" >2</th>\n",
       "      <td id=\"T_b6480_row2_col0\" class=\"data row2 col0\" >600000</td>\n",
       "      <td id=\"T_b6480_row2_col1\" class=\"data row2 col1\" >100000</td>\n",
       "      <td id=\"T_b6480_row2_col2\" class=\"data row2 col2\" >Diesel</td>\n",
       "      <td id=\"T_b6480_row2_col3\" class=\"data row2 col3\" >Individual</td>\n",
       "      <td id=\"T_b6480_row2_col4\" class=\"data row2 col4\" >Manual</td>\n",
       "      <td id=\"T_b6480_row2_col5\" class=\"data row2 col5\" >First Owner</td>\n",
       "      <td id=\"T_b6480_row2_col6\" class=\"data row2 col6\" >Hyundai</td>\n",
       "    </tr>\n",
       "    <tr>\n",
       "      <th id=\"T_b6480_level0_row3\" class=\"row_heading level0 row3\" >3</th>\n",
       "      <td id=\"T_b6480_row3_col0\" class=\"data row3 col0\" >250000</td>\n",
       "      <td id=\"T_b6480_row3_col1\" class=\"data row3 col1\" >46000</td>\n",
       "      <td id=\"T_b6480_row3_col2\" class=\"data row3 col2\" >Petrol</td>\n",
       "      <td id=\"T_b6480_row3_col3\" class=\"data row3 col3\" >Individual</td>\n",
       "      <td id=\"T_b6480_row3_col4\" class=\"data row3 col4\" >Manual</td>\n",
       "      <td id=\"T_b6480_row3_col5\" class=\"data row3 col5\" >First Owner</td>\n",
       "      <td id=\"T_b6480_row3_col6\" class=\"data row3 col6\" >Datsun</td>\n",
       "    </tr>\n",
       "    <tr>\n",
       "      <th id=\"T_b6480_level0_row4\" class=\"row_heading level0 row4\" >4</th>\n",
       "      <td id=\"T_b6480_row4_col0\" class=\"data row4 col0\" >450000</td>\n",
       "      <td id=\"T_b6480_row4_col1\" class=\"data row4 col1\" >141000</td>\n",
       "      <td id=\"T_b6480_row4_col2\" class=\"data row4 col2\" >Diesel</td>\n",
       "      <td id=\"T_b6480_row4_col3\" class=\"data row4 col3\" >Individual</td>\n",
       "      <td id=\"T_b6480_row4_col4\" class=\"data row4 col4\" >Manual</td>\n",
       "      <td id=\"T_b6480_row4_col5\" class=\"data row4 col5\" >Second Owner</td>\n",
       "      <td id=\"T_b6480_row4_col6\" class=\"data row4 col6\" >Honda</td>\n",
       "    </tr>\n",
       "  </tbody>\n",
       "</table>\n"
      ],
      "text/plain": [
       "<pandas.io.formats.style.Styler at 0x26c0f2e8130>"
      ]
     },
     "execution_count": 6,
     "metadata": {},
     "output_type": "execute_result"
    }
   ],
   "source": [
    "df.head().style.background_gradient(cmap = \"summer\")"
   ]
  },
  {
   "cell_type": "code",
   "execution_count": 7,
   "id": "63f9fa4a",
   "metadata": {},
   "outputs": [
    {
     "data": {
      "text/plain": [
       "selling_price     0\n",
       "km_driven         0\n",
       "fuel              0\n",
       "seller_type       0\n",
       "transmission      0\n",
       "owner             0\n",
       "car_brand_name    0\n",
       "dtype: int64"
      ]
     },
     "execution_count": 7,
     "metadata": {},
     "output_type": "execute_result"
    }
   ],
   "source": [
    "# check whether there are null values in the dataset\n",
    "df.isnull().sum()"
   ]
  },
  {
   "cell_type": "code",
   "execution_count": 8,
   "id": "cfa7a09a",
   "metadata": {},
   "outputs": [
    {
     "data": {
      "text/html": [
       "<style type=\"text/css\">\n",
       "#T_88707_row0_col0, #T_88707_row3_col0, #T_88707_row3_col1 {\n",
       "  background-color: #440154;\n",
       "  color: #f1f1f1;\n",
       "}\n",
       "#T_88707_row0_col1 {\n",
       "  background-color: #440256;\n",
       "  color: #f1f1f1;\n",
       "}\n",
       "#T_88707_row1_col0, #T_88707_row2_col1 {\n",
       "  background-color: #481668;\n",
       "  color: #f1f1f1;\n",
       "}\n",
       "#T_88707_row1_col1 {\n",
       "  background-color: #481f70;\n",
       "  color: #f1f1f1;\n",
       "}\n",
       "#T_88707_row2_col0 {\n",
       "  background-color: #48186a;\n",
       "  color: #f1f1f1;\n",
       "}\n",
       "#T_88707_row4_col0 {\n",
       "  background-color: #46085c;\n",
       "  color: #f1f1f1;\n",
       "}\n",
       "#T_88707_row4_col1 {\n",
       "  background-color: #471164;\n",
       "  color: #f1f1f1;\n",
       "}\n",
       "#T_88707_row5_col0 {\n",
       "  background-color: #470e61;\n",
       "  color: #f1f1f1;\n",
       "}\n",
       "#T_88707_row5_col1 {\n",
       "  background-color: #481c6e;\n",
       "  color: #f1f1f1;\n",
       "}\n",
       "#T_88707_row6_col0 {\n",
       "  background-color: #481a6c;\n",
       "  color: #f1f1f1;\n",
       "}\n",
       "#T_88707_row6_col1 {\n",
       "  background-color: #482878;\n",
       "  color: #f1f1f1;\n",
       "}\n",
       "#T_88707_row7_col0, #T_88707_row7_col1 {\n",
       "  background-color: #fde725;\n",
       "  color: #000000;\n",
       "}\n",
       "</style>\n",
       "<table id=\"T_88707\">\n",
       "  <thead>\n",
       "    <tr>\n",
       "      <th class=\"blank level0\" >&nbsp;</th>\n",
       "      <th id=\"T_88707_level0_col0\" class=\"col_heading level0 col0\" >selling_price</th>\n",
       "      <th id=\"T_88707_level0_col1\" class=\"col_heading level0 col1\" >km_driven</th>\n",
       "    </tr>\n",
       "  </thead>\n",
       "  <tbody>\n",
       "    <tr>\n",
       "      <th id=\"T_88707_level0_row0\" class=\"row_heading level0 row0\" >count</th>\n",
       "      <td id=\"T_88707_row0_col0\" class=\"data row0 col0\" >4340.000000</td>\n",
       "      <td id=\"T_88707_row0_col1\" class=\"data row0 col1\" >4340.000000</td>\n",
       "    </tr>\n",
       "    <tr>\n",
       "      <th id=\"T_88707_level0_row1\" class=\"row_heading level0 row1\" >mean</th>\n",
       "      <td id=\"T_88707_row1_col0\" class=\"data row1 col0\" >504127.311751</td>\n",
       "      <td id=\"T_88707_row1_col1\" class=\"data row1 col1\" >66215.777419</td>\n",
       "    </tr>\n",
       "    <tr>\n",
       "      <th id=\"T_88707_level0_row2\" class=\"row_heading level0 row2\" >std</th>\n",
       "      <td id=\"T_88707_row2_col0\" class=\"data row2 col0\" >578548.736139</td>\n",
       "      <td id=\"T_88707_row2_col1\" class=\"data row2 col1\" >46644.102194</td>\n",
       "    </tr>\n",
       "    <tr>\n",
       "      <th id=\"T_88707_level0_row3\" class=\"row_heading level0 row3\" >min</th>\n",
       "      <td id=\"T_88707_row3_col0\" class=\"data row3 col0\" >20000.000000</td>\n",
       "      <td id=\"T_88707_row3_col1\" class=\"data row3 col1\" >1.000000</td>\n",
       "    </tr>\n",
       "    <tr>\n",
       "      <th id=\"T_88707_level0_row4\" class=\"row_heading level0 row4\" >25%</th>\n",
       "      <td id=\"T_88707_row4_col0\" class=\"data row4 col0\" >208749.750000</td>\n",
       "      <td id=\"T_88707_row4_col1\" class=\"data row4 col1\" >35000.000000</td>\n",
       "    </tr>\n",
       "    <tr>\n",
       "      <th id=\"T_88707_level0_row5\" class=\"row_heading level0 row5\" >50%</th>\n",
       "      <td id=\"T_88707_row5_col0\" class=\"data row5 col0\" >350000.000000</td>\n",
       "      <td id=\"T_88707_row5_col1\" class=\"data row5 col1\" >60000.000000</td>\n",
       "    </tr>\n",
       "    <tr>\n",
       "      <th id=\"T_88707_level0_row6\" class=\"row_heading level0 row6\" >75%</th>\n",
       "      <td id=\"T_88707_row6_col0\" class=\"data row6 col0\" >600000.000000</td>\n",
       "      <td id=\"T_88707_row6_col1\" class=\"data row6 col1\" >90000.000000</td>\n",
       "    </tr>\n",
       "    <tr>\n",
       "      <th id=\"T_88707_level0_row7\" class=\"row_heading level0 row7\" >max</th>\n",
       "      <td id=\"T_88707_row7_col0\" class=\"data row7 col0\" >8900000.000000</td>\n",
       "      <td id=\"T_88707_row7_col1\" class=\"data row7 col1\" >806599.000000</td>\n",
       "    </tr>\n",
       "  </tbody>\n",
       "</table>\n"
      ],
      "text/plain": [
       "<pandas.io.formats.style.Styler at 0x26c0c9ef8e0>"
      ]
     },
     "execution_count": 8,
     "metadata": {},
     "output_type": "execute_result"
    }
   ],
   "source": [
    "df.describe().style.background_gradient(cmap = \"viridis\")"
   ]
  },
  {
   "cell_type": "code",
   "execution_count": 9,
   "id": "ab4cd363",
   "metadata": {},
   "outputs": [
    {
     "data": {
      "text/html": [
       "<div>\n",
       "<style scoped>\n",
       "    .dataframe tbody tr th:only-of-type {\n",
       "        vertical-align: middle;\n",
       "    }\n",
       "\n",
       "    .dataframe tbody tr th {\n",
       "        vertical-align: top;\n",
       "    }\n",
       "\n",
       "    .dataframe thead th {\n",
       "        text-align: right;\n",
       "    }\n",
       "</style>\n",
       "<table border=\"1\" class=\"dataframe\">\n",
       "  <thead>\n",
       "    <tr style=\"text-align: right;\">\n",
       "      <th></th>\n",
       "      <th>count</th>\n",
       "      <th>unique</th>\n",
       "      <th>top</th>\n",
       "      <th>freq</th>\n",
       "    </tr>\n",
       "  </thead>\n",
       "  <tbody>\n",
       "    <tr>\n",
       "      <th>car_brand_name</th>\n",
       "      <td>4340</td>\n",
       "      <td>29</td>\n",
       "      <td>Maruti</td>\n",
       "      <td>1280</td>\n",
       "    </tr>\n",
       "  </tbody>\n",
       "</table>\n",
       "</div>"
      ],
      "text/plain": [
       "               count unique     top  freq\n",
       "car_brand_name  4340     29  Maruti  1280"
      ]
     },
     "execution_count": 9,
     "metadata": {},
     "output_type": "execute_result"
    }
   ],
   "source": [
    "df.describe(include = \"category\").T"
   ]
  },
  {
   "cell_type": "code",
   "execution_count": 10,
   "id": "f739430f",
   "metadata": {
    "scrolled": true
   },
   "outputs": [
    {
     "name": "stdout",
     "output_type": "stream",
     "text": [
      "Class frequencies of 'transmission' variable: \n",
      "\n",
      " Manual       3892\n",
      "Automatic     448\n",
      "Name: transmission, dtype: int64\n",
      "_____________________________________________________________________________________\n",
      "Class frequencies of 'seller_type' variable: \n",
      "\n",
      " Individual          3244\n",
      "Dealer               994\n",
      "Trustmark Dealer     102\n",
      "Name: seller_type, dtype: int64\n",
      "_____________________________________________________________________________________\n",
      "Class frequencies of 'owner' variable: \n",
      "\n",
      " First Owner             2832\n",
      "Second Owner            1106\n",
      "Third Owner              304\n",
      "Fourth & Above Owner      81\n",
      "Test Drive Car            17\n",
      "Name: owner, dtype: int64\n",
      "_____________________________________________________________________________________\n",
      "Class frequencies of 'car_brand_name' variable: \n",
      "\n",
      " Maruti           1280\n",
      "Hyundai           821\n",
      "Mahindra          365\n",
      "Tata              361\n",
      "Honda             252\n",
      "Ford              238\n",
      "Toyota            206\n",
      "Chevrolet         188\n",
      "Renault           146\n",
      "Volkswagen        107\n",
      "Skoda              68\n",
      "Nissan             64\n",
      "Audi               60\n",
      "BMW                39\n",
      "Fiat               37\n",
      "Datsun             37\n",
      "Mercedes-Benz      35\n",
      "Mitsubishi          6\n",
      "Jaguar              6\n",
      "Land                5\n",
      "Ambassador          4\n",
      "Volvo               4\n",
      "Jeep                3\n",
      "OpelCorsa           2\n",
      "MG                  2\n",
      "Isuzu               1\n",
      "Force               1\n",
      "Daewoo              1\n",
      "Kia                 1\n",
      "Name: car_brand_name, dtype: int64\n"
     ]
    }
   ],
   "source": [
    "#get class frequencies of some variables\n",
    "\n",
    "print(\"Class frequencies of 'transmission' variable: \\n\\n\", df[\"transmission\"].value_counts())\n",
    "\n",
    "print(\"_____________________________________________________________________________________\")\n",
    "\n",
    "print(\"Class frequencies of 'seller_type' variable: \\n\\n\", df[\"seller_type\"].value_counts())\n",
    "\n",
    "print(\"_____________________________________________________________________________________\")\n",
    "\n",
    "print(\"Class frequencies of 'owner' variable: \\n\\n\", df[\"owner\"].value_counts())\n",
    "\n",
    "print(\"_____________________________________________________________________________________\")\n",
    "\n",
    "print(\"Class frequencies of 'car_brand_name' variable: \\n\\n\", df[\"car_brand_name\"].value_counts())"
   ]
  },
  {
   "cell_type": "code",
   "execution_count": 11,
   "id": "f185bd3d",
   "metadata": {},
   "outputs": [
    {
     "data": {
      "text/plain": [
       "{'Diesel': 2153, 'Petrol': 2123, 'CNG': 40, 'LPG': 23, 'Electric': 1}"
      ]
     },
     "execution_count": 11,
     "metadata": {},
     "output_type": "execute_result"
    }
   ],
   "source": [
    "df['transmission'].value_counts().to_dict()\n",
    "df['seller_type'].value_counts().to_dict()\n",
    "df['owner'].value_counts().to_dict()\n",
    "df['fuel'].value_counts().to_dict()"
   ]
  },
  {
   "cell_type": "code",
   "execution_count": 12,
   "id": "186f7f17",
   "metadata": {},
   "outputs": [],
   "source": [
    "df['transmission'] = df['transmission'].replace({'Manual': 1, 'Automatic': 0}).astype('int')\n",
    "df['seller_type'] = df['seller_type'].replace({'Individual': 0, 'Dealer': 1, 'Trustmark Dealer': 2}).astype('int')\n",
    "df['owner'] = df['owner'].replace({'First Owner': 1,'Second Owner': 2,'Third Owner': 3,\n",
    " 'Fourth & Above Owner': 4,\n",
    " 'Test Drive Car': 0}).astype('int')\n",
    "df['fuel']=df['fuel'].replace({'Diesel': 1, 'Petrol': 2, 'CNG': 3, 'LPG': 4, 'Electric': 5}).astype('int')"
   ]
  },
  {
   "cell_type": "code",
   "execution_count": 13,
   "id": "551df245",
   "metadata": {},
   "outputs": [
    {
     "name": "stdout",
     "output_type": "stream",
     "text": [
      "<class 'pandas.core.frame.DataFrame'>\n",
      "RangeIndex: 4340 entries, 0 to 4339\n",
      "Data columns (total 7 columns):\n",
      " #   Column          Non-Null Count  Dtype   \n",
      "---  ------          --------------  -----   \n",
      " 0   selling_price   4340 non-null   int64   \n",
      " 1   km_driven       4340 non-null   int64   \n",
      " 2   fuel            4340 non-null   int32   \n",
      " 3   seller_type     4340 non-null   int32   \n",
      " 4   transmission    4340 non-null   int32   \n",
      " 5   owner           4340 non-null   int32   \n",
      " 6   car_brand_name  4340 non-null   category\n",
      "dtypes: category(1), int32(4), int64(2)\n",
      "memory usage: 141.3 KB\n"
     ]
    }
   ],
   "source": [
    "df.info()"
   ]
  },
  {
   "cell_type": "code",
   "execution_count": 14,
   "id": "bd877a3f",
   "metadata": {},
   "outputs": [
    {
     "data": {
      "text/plain": [
       "<AxesSubplot:>"
      ]
     },
     "execution_count": 14,
     "metadata": {},
     "output_type": "execute_result"
    },
    {
     "data": {
      "image/png": "[encoded data removed]",
      "text/plain": [
       "<Figure size 432x288 with 2 Axes>"
      ]
     },
     "metadata": {
      "needs_background": "light"
     },
     "output_type": "display_data"
    }
   ],
   "source": [
    "sns.heatmap(df.corr(),annot=True)"
   ]
  },
  {
   "cell_type": "code",
   "execution_count": 15,
   "id": "b6442d38",
   "metadata": {
    "scrolled": true
   },
   "outputs": [
    {
     "data": {
      "text/html": [
       "<div>\n",
       "<style scoped>\n",
       "    .dataframe tbody tr th:only-of-type {\n",
       "        vertical-align: middle;\n",
       "    }\n",
       "\n",
       "    .dataframe tbody tr th {\n",
       "        vertical-align: top;\n",
       "    }\n",
       "\n",
       "    .dataframe thead th {\n",
       "        text-align: right;\n",
       "    }\n",
       "</style>\n",
       "<table border=\"1\" class=\"dataframe\">\n",
       "  <thead>\n",
       "    <tr style=\"text-align: right;\">\n",
       "      <th></th>\n",
       "      <th>selling_price</th>\n",
       "      <th>km_driven</th>\n",
       "      <th>fuel</th>\n",
       "      <th>seller_type</th>\n",
       "      <th>transmission</th>\n",
       "      <th>owner</th>\n",
       "      <th>car_brand_name</th>\n",
       "    </tr>\n",
       "  </thead>\n",
       "  <tbody>\n",
       "    <tr>\n",
       "      <th>0</th>\n",
       "      <td>60000</td>\n",
       "      <td>70000</td>\n",
       "      <td>2</td>\n",
       "      <td>0</td>\n",
       "      <td>1</td>\n",
       "      <td>1</td>\n",
       "      <td>Maruti</td>\n",
       "    </tr>\n",
       "    <tr>\n",
       "      <th>1</th>\n",
       "      <td>135000</td>\n",
       "      <td>50000</td>\n",
       "      <td>2</td>\n",
       "      <td>0</td>\n",
       "      <td>1</td>\n",
       "      <td>1</td>\n",
       "      <td>Maruti</td>\n",
       "    </tr>\n",
       "    <tr>\n",
       "      <th>2</th>\n",
       "      <td>600000</td>\n",
       "      <td>100000</td>\n",
       "      <td>1</td>\n",
       "      <td>0</td>\n",
       "      <td>1</td>\n",
       "      <td>1</td>\n",
       "      <td>Hyundai</td>\n",
       "    </tr>\n",
       "    <tr>\n",
       "      <th>3</th>\n",
       "      <td>250000</td>\n",
       "      <td>46000</td>\n",
       "      <td>2</td>\n",
       "      <td>0</td>\n",
       "      <td>1</td>\n",
       "      <td>1</td>\n",
       "      <td>Datsun</td>\n",
       "    </tr>\n",
       "    <tr>\n",
       "      <th>4</th>\n",
       "      <td>450000</td>\n",
       "      <td>141000</td>\n",
       "      <td>1</td>\n",
       "      <td>0</td>\n",
       "      <td>1</td>\n",
       "      <td>2</td>\n",
       "      <td>Honda</td>\n",
       "    </tr>\n",
       "  </tbody>\n",
       "</table>\n",
       "</div>"
      ],
      "text/plain": [
       "   selling_price  km_driven  fuel  seller_type  transmission  owner  \\\n",
       "0          60000      70000     2            0             1      1   \n",
       "1         135000      50000     2            0             1      1   \n",
       "2         600000     100000     1            0             1      1   \n",
       "3         250000      46000     2            0             1      1   \n",
       "4         450000     141000     1            0             1      2   \n",
       "\n",
       "  car_brand_name  \n",
       "0         Maruti  \n",
       "1         Maruti  \n",
       "2        Hyundai  \n",
       "3         Datsun  \n",
       "4          Honda  "
      ]
     },
     "execution_count": 15,
     "metadata": {},
     "output_type": "execute_result"
    }
   ],
   "source": [
    "df.head()"
   ]
  },
  {
   "cell_type": "code",
   "execution_count": 16,
   "id": "c87b0c8b",
   "metadata": {},
   "outputs": [
    {
     "data": {
      "text/plain": [
       "<AxesSubplot:xlabel='selling_price', ylabel='Density'>"
      ]
     },
     "execution_count": 16,
     "metadata": {},
     "output_type": "execute_result"
    },
    {
     "data": {
      "image/png": "[encoded data removed]",
      "text/plain": [
       "<Figure size 432x288 with 1 Axes>"
      ]
     },
     "metadata": {
      "needs_background": "light"
     },
     "output_type": "display_data"
    }
   ],
   "source": [
    "sns.distplot(df[\"selling_price\"])"
   ]
  },
  {
   "cell_type": "code",
   "execution_count": 17,
   "id": "8ce5f20a",
   "metadata": {},
   "outputs": [
    {
     "name": "stdout",
     "output_type": "stream",
     "text": [
      "Skewness of target variable:  4.892021472306356\n",
      "Kurtosis of target variable:  37.08754263212727\n"
     ]
    }
   ],
   "source": [
    "print(\"Skewness of target variable: \", df[\"selling_price\"].skew())\n",
    "print(\"Kurtosis of target variable: \", df[\"selling_price\"].kurt())"
   ]
  },
  {
   "cell_type": "code",
   "execution_count": 18,
   "id": "f9435d4d",
   "metadata": {},
   "outputs": [
    {
     "data": {
      "text/plain": [
       "<AxesSubplot:xlabel='selling_price', ylabel='Density'>"
      ]
     },
     "execution_count": 18,
     "metadata": {},
     "output_type": "execute_result"
    },
    {
     "data": {
      "image/png": "[encoded data removed]",
      "text/plain": [
       "<Figure size 432x288 with 1 Axes>"
      ]
     },
     "metadata": {
      "needs_background": "light"
     },
     "output_type": "display_data"
    }
   ],
   "source": [
    "sns.distplot(np.log(df[\"selling_price\"]))"
   ]
  },
  {
   "cell_type": "code",
   "execution_count": 19,
   "id": "cbb22e96",
   "metadata": {},
   "outputs": [
    {
     "name": "stdout",
     "output_type": "stream",
     "text": [
      "Skewness of selling_price variable is: 4.892021472306356\n",
      "Skewness of km_driven variable is: 2.6690569869843133\n",
      "Skewness of fuel variable is: 0.6060992827051294\n",
      "Skewness of seller_type variable is: 1.5628409172591309\n",
      "Skewness of transmission variable is: -2.609082802082893\n",
      "Skewness of owner variable is: 1.5121472495085855\n"
     ]
    }
   ],
   "source": [
    "# get skewness of other numeric variables\n",
    "\n",
    "numeric_data = [column for column in df.select_dtypes([\"int\", \"float\"])]\n",
    "for col in numeric_data:\n",
    "    print(\"Skewness of\", col, \"variable is:\", df[col].skew())"
   ]
  },
  {
   "cell_type": "code",
   "execution_count": 20,
   "id": "7b5bca42",
   "metadata": {},
   "outputs": [],
   "source": [
    "# select dependent variable (label)\n",
    "y = df[\"selling_price\"]\n",
    "y = np.log1p(y)"
   ]
  },
  {
   "cell_type": "code",
   "execution_count": 21,
   "id": "c87fc58f",
   "metadata": {},
   "outputs": [],
   "source": [
    "# select independent variable (estimator)\n",
    "x = df.drop(\"selling_price\", axis = 1)\n",
    "\n",
    "#encode the variables of the dataset\n",
    "x = pd.get_dummies(x, drop_first = True)"
   ]
  },
  {
   "cell_type": "code",
   "execution_count": 22,
   "id": "dea0f25b",
   "metadata": {},
   "outputs": [
    {
     "data": {
      "text/html": [
       "<div>\n",
       "<style scoped>\n",
       "    .dataframe tbody tr th:only-of-type {\n",
       "        vertical-align: middle;\n",
       "    }\n",
       "\n",
       "    .dataframe tbody tr th {\n",
       "        vertical-align: top;\n",
       "    }\n",
       "\n",
       "    .dataframe thead th {\n",
       "        text-align: right;\n",
       "    }\n",
       "</style>\n",
       "<table border=\"1\" class=\"dataframe\">\n",
       "  <thead>\n",
       "    <tr style=\"text-align: right;\">\n",
       "      <th></th>\n",
       "      <th>km_driven</th>\n",
       "      <th>fuel</th>\n",
       "      <th>seller_type</th>\n",
       "      <th>transmission</th>\n",
       "      <th>owner</th>\n",
       "      <th>car_brand_name_Audi</th>\n",
       "      <th>car_brand_name_BMW</th>\n",
       "      <th>car_brand_name_Chevrolet</th>\n",
       "      <th>car_brand_name_Daewoo</th>\n",
       "      <th>car_brand_name_Datsun</th>\n",
       "      <th>car_brand_name_Fiat</th>\n",
       "      <th>car_brand_name_Force</th>\n",
       "      <th>car_brand_name_Ford</th>\n",
       "      <th>car_brand_name_Honda</th>\n",
       "      <th>car_brand_name_Hyundai</th>\n",
       "      <th>car_brand_name_Isuzu</th>\n",
       "      <th>car_brand_name_Jaguar</th>\n",
       "      <th>car_brand_name_Jeep</th>\n",
       "      <th>car_brand_name_Kia</th>\n",
       "      <th>car_brand_name_Land</th>\n",
       "      <th>car_brand_name_MG</th>\n",
       "      <th>car_brand_name_Mahindra</th>\n",
       "      <th>car_brand_name_Maruti</th>\n",
       "      <th>car_brand_name_Mercedes-Benz</th>\n",
       "      <th>car_brand_name_Mitsubishi</th>\n",
       "      <th>car_brand_name_Nissan</th>\n",
       "      <th>car_brand_name_OpelCorsa</th>\n",
       "      <th>car_brand_name_Renault</th>\n",
       "      <th>car_brand_name_Skoda</th>\n",
       "      <th>car_brand_name_Tata</th>\n",
       "      <th>car_brand_name_Toyota</th>\n",
       "      <th>car_brand_name_Volkswagen</th>\n",
       "      <th>car_brand_name_Volvo</th>\n",
       "    </tr>\n",
       "  </thead>\n",
       "  <tbody>\n",
       "    <tr>\n",
       "      <th>0</th>\n",
       "      <td>70000</td>\n",
       "      <td>2</td>\n",
       "      <td>0</td>\n",
       "      <td>1</td>\n",
       "      <td>1</td>\n",
       "      <td>0</td>\n",
       "      <td>0</td>\n",
       "      <td>0</td>\n",
       "      <td>0</td>\n",
       "      <td>0</td>\n",
       "      <td>0</td>\n",
       "      <td>0</td>\n",
       "      <td>0</td>\n",
       "      <td>0</td>\n",
       "      <td>0</td>\n",
       "      <td>0</td>\n",
       "      <td>0</td>\n",
       "      <td>0</td>\n",
       "      <td>0</td>\n",
       "      <td>0</td>\n",
       "      <td>0</td>\n",
       "      <td>0</td>\n",
       "      <td>1</td>\n",
       "      <td>0</td>\n",
       "      <td>0</td>\n",
       "      <td>0</td>\n",
       "      <td>0</td>\n",
       "      <td>0</td>\n",
       "      <td>0</td>\n",
       "      <td>0</td>\n",
       "      <td>0</td>\n",
       "      <td>0</td>\n",
       "      <td>0</td>\n",
       "    </tr>\n",
       "    <tr>\n",
       "      <th>1</th>\n",
       "      <td>50000</td>\n",
       "      <td>2</td>\n",
       "      <td>0</td>\n",
       "      <td>1</td>\n",
       "      <td>1</td>\n",
       "      <td>0</td>\n",
       "      <td>0</td>\n",
       "      <td>0</td>\n",
       "      <td>0</td>\n",
       "      <td>0</td>\n",
       "      <td>0</td>\n",
       "      <td>0</td>\n",
       "      <td>0</td>\n",
       "      <td>0</td>\n",
       "      <td>0</td>\n",
       "      <td>0</td>\n",
       "      <td>0</td>\n",
       "      <td>0</td>\n",
       "      <td>0</td>\n",
       "      <td>0</td>\n",
       "      <td>0</td>\n",
       "      <td>0</td>\n",
       "      <td>1</td>\n",
       "      <td>0</td>\n",
       "      <td>0</td>\n",
       "      <td>0</td>\n",
       "      <td>0</td>\n",
       "      <td>0</td>\n",
       "      <td>0</td>\n",
       "      <td>0</td>\n",
       "      <td>0</td>\n",
       "      <td>0</td>\n",
       "      <td>0</td>\n",
       "    </tr>\n",
       "    <tr>\n",
       "      <th>2</th>\n",
       "      <td>100000</td>\n",
       "      <td>1</td>\n",
       "      <td>0</td>\n",
       "      <td>1</td>\n",
       "      <td>1</td>\n",
       "      <td>0</td>\n",
       "      <td>0</td>\n",
       "      <td>0</td>\n",
       "      <td>0</td>\n",
       "      <td>0</td>\n",
       "      <td>0</td>\n",
       "      <td>0</td>\n",
       "      <td>0</td>\n",
       "      <td>0</td>\n",
       "      <td>1</td>\n",
       "      <td>0</td>\n",
       "      <td>0</td>\n",
       "      <td>0</td>\n",
       "      <td>0</td>\n",
       "      <td>0</td>\n",
       "      <td>0</td>\n",
       "      <td>0</td>\n",
       "      <td>0</td>\n",
       "      <td>0</td>\n",
       "      <td>0</td>\n",
       "      <td>0</td>\n",
       "      <td>0</td>\n",
       "      <td>0</td>\n",
       "      <td>0</td>\n",
       "      <td>0</td>\n",
       "      <td>0</td>\n",
       "      <td>0</td>\n",
       "      <td>0</td>\n",
       "    </tr>\n",
       "    <tr>\n",
       "      <th>3</th>\n",
       "      <td>46000</td>\n",
       "      <td>2</td>\n",
       "      <td>0</td>\n",
       "      <td>1</td>\n",
       "      <td>1</td>\n",
       "      <td>0</td>\n",
       "      <td>0</td>\n",
       "      <td>0</td>\n",
       "      <td>0</td>\n",
       "      <td>1</td>\n",
       "      <td>0</td>\n",
       "      <td>0</td>\n",
       "      <td>0</td>\n",
       "      <td>0</td>\n",
       "      <td>0</td>\n",
       "      <td>0</td>\n",
       "      <td>0</td>\n",
       "      <td>0</td>\n",
       "      <td>0</td>\n",
       "      <td>0</td>\n",
       "      <td>0</td>\n",
       "      <td>0</td>\n",
       "      <td>0</td>\n",
       "      <td>0</td>\n",
       "      <td>0</td>\n",
       "      <td>0</td>\n",
       "      <td>0</td>\n",
       "      <td>0</td>\n",
       "      <td>0</td>\n",
       "      <td>0</td>\n",
       "      <td>0</td>\n",
       "      <td>0</td>\n",
       "      <td>0</td>\n",
       "    </tr>\n",
       "    <tr>\n",
       "      <th>4</th>\n",
       "      <td>141000</td>\n",
       "      <td>1</td>\n",
       "      <td>0</td>\n",
       "      <td>1</td>\n",
       "      <td>2</td>\n",
       "      <td>0</td>\n",
       "      <td>0</td>\n",
       "      <td>0</td>\n",
       "      <td>0</td>\n",
       "      <td>0</td>\n",
       "      <td>0</td>\n",
       "      <td>0</td>\n",
       "      <td>0</td>\n",
       "      <td>1</td>\n",
       "      <td>0</td>\n",
       "      <td>0</td>\n",
       "      <td>0</td>\n",
       "      <td>0</td>\n",
       "      <td>0</td>\n",
       "      <td>0</td>\n",
       "      <td>0</td>\n",
       "      <td>0</td>\n",
       "      <td>0</td>\n",
       "      <td>0</td>\n",
       "      <td>0</td>\n",
       "      <td>0</td>\n",
       "      <td>0</td>\n",
       "      <td>0</td>\n",
       "      <td>0</td>\n",
       "      <td>0</td>\n",
       "      <td>0</td>\n",
       "      <td>0</td>\n",
       "      <td>0</td>\n",
       "    </tr>\n",
       "  </tbody>\n",
       "</table>\n",
       "</div>"
      ],
      "text/plain": [
       "   km_driven  fuel  seller_type  transmission  owner  car_brand_name_Audi  \\\n",
       "0      70000     2            0             1      1                    0   \n",
       "1      50000     2            0             1      1                    0   \n",
       "2     100000     1            0             1      1                    0   \n",
       "3      46000     2            0             1      1                    0   \n",
       "4     141000     1            0             1      2                    0   \n",
       "\n",
       "   car_brand_name_BMW  car_brand_name_Chevrolet  car_brand_name_Daewoo  \\\n",
       "0                   0                         0                      0   \n",
       "1                   0                         0                      0   \n",
       "2                   0                         0                      0   \n",
       "3                   0                         0                      0   \n",
       "4                   0                         0                      0   \n",
       "\n",
       "   car_brand_name_Datsun  car_brand_name_Fiat  car_brand_name_Force  \\\n",
       "0                      0                    0                     0   \n",
       "1                      0                    0                     0   \n",
       "2                      0                    0                     0   \n",
       "3                      1                    0                     0   \n",
       "4                      0                    0                     0   \n",
       "\n",
       "   car_brand_name_Ford  car_brand_name_Honda  car_brand_name_Hyundai  \\\n",
       "0                    0                     0                       0   \n",
       "1                    0                     0                       0   \n",
       "2                    0                     0                       1   \n",
       "3                    0                     0                       0   \n",
       "4                    0                     1                       0   \n",
       "\n",
       "   car_brand_name_Isuzu  car_brand_name_Jaguar  car_brand_name_Jeep  \\\n",
       "0                     0                      0                    0   \n",
       "1                     0                      0                    0   \n",
       "2                     0                      0                    0   \n",
       "3                     0                      0                    0   \n",
       "4                     0                      0                    0   \n",
       "\n",
       "   car_brand_name_Kia  car_brand_name_Land  car_brand_name_MG  \\\n",
       "0                   0                    0                  0   \n",
       "1                   0                    0                  0   \n",
       "2                   0                    0                  0   \n",
       "3                   0                    0                  0   \n",
       "4                   0                    0                  0   \n",
       "\n",
       "   car_brand_name_Mahindra  car_brand_name_Maruti  \\\n",
       "0                        0                      1   \n",
       "1                        0                      1   \n",
       "2                        0                      0   \n",
       "3                        0                      0   \n",
       "4                        0                      0   \n",
       "\n",
       "   car_brand_name_Mercedes-Benz  car_brand_name_Mitsubishi  \\\n",
       "0                             0                          0   \n",
       "1                             0                          0   \n",
       "2                             0                          0   \n",
       "3                             0                          0   \n",
       "4                             0                          0   \n",
       "\n",
       "   car_brand_name_Nissan  car_brand_name_OpelCorsa  car_brand_name_Renault  \\\n",
       "0                      0                         0                       0   \n",
       "1                      0                         0                       0   \n",
       "2                      0                         0                       0   \n",
       "3                      0                         0                       0   \n",
       "4                      0                         0                       0   \n",
       "\n",
       "   car_brand_name_Skoda  car_brand_name_Tata  car_brand_name_Toyota  \\\n",
       "0                     0                    0                      0   \n",
       "1                     0                    0                      0   \n",
       "2                     0                    0                      0   \n",
       "3                     0                    0                      0   \n",
       "4                     0                    0                      0   \n",
       "\n",
       "   car_brand_name_Volkswagen  car_brand_name_Volvo  \n",
       "0                          0                     0  \n",
       "1                          0                     0  \n",
       "2                          0                     0  \n",
       "3                          0                     0  \n",
       "4                          0                     0  "
      ]
     },
     "execution_count": 22,
     "metadata": {},
     "output_type": "execute_result"
    }
   ],
   "source": [
    "x.head()"
   ]
  },
  {
   "cell_type": "code",
   "execution_count": 23,
   "id": "28108fba",
   "metadata": {},
   "outputs": [
    {
     "name": "stdout",
     "output_type": "stream",
     "text": [
      "(3472, 33)\n",
      "(868, 33)\n"
     ]
    }
   ],
   "source": [
    "# Split the dataset into x_train (y_train) and x_test (y_test) sets\n",
    "\n",
    "x_train, x_test, y_train, y_test = train_test_split(x, y,\n",
    "                                                    test_size = 0.20,\n",
    "                                                    shuffle = True,\n",
    "                                                    random_state = 1)\n",
    "print(x_train.shape)\n",
    "print(x_test.shape)"
   ]
  },
  {
   "cell_type": "code",
   "execution_count": 24,
   "id": "56df9f70",
   "metadata": {},
   "outputs": [],
   "source": [
    "rob_scaler = RobustScaler()\n",
    "rob_scaler.fit(x_train)\n",
    "x_train = rob_scaler.transform(x_train)\n",
    "x_test = rob_scaler.transform(x_test)"
   ]
  },
  {
   "cell_type": "code",
   "execution_count": 25,
   "id": "39c4322c",
   "metadata": {},
   "outputs": [
    {
     "data": {
      "text/plain": [
       "LinearRegression(copy_X=True, fit_intercept=True, n_jobs=None,\n",
       "                 normalize='deprecated', positive=False)"
      ]
     },
     "execution_count": 25,
     "metadata": {},
     "output_type": "execute_result"
    }
   ],
   "source": [
    "lr = LinearRegression()\n",
    "lr.fit(x_train,y_train)"
   ]
  },
  {
   "cell_type": "code",
   "execution_count": 26,
   "id": "9f5c7583",
   "metadata": {},
   "outputs": [
    {
     "name": "stdout",
     "output_type": "stream",
     "text": [
      "mean_squared_error : 0.292182984595307\n",
      "Root_mean_squared_error : 0.5405395310199865\n",
      "mean_absolute_error : 0.4259705777508051\n",
      "r2_score : 0.5855645734119219\n"
     ]
    }
   ],
   "source": [
    "# Training data Evaluation\n",
    "y_train_pred = lr.predict(x_train)\n",
    "\n",
    "mse = mean_squared_error(y_train,y_train_pred)\n",
    "print('mean_squared_error :',mse)\n",
    "\n",
    "rmse = np.sqrt(mse)\n",
    "print('Root_mean_squared_error :',rmse)\n",
    "\n",
    "mae = mean_absolute_error(y_train,y_train_pred)\n",
    "print('mean_absolute_error :',mae)\n",
    "\n",
    "r = r2_score(y_train,y_train_pred)\n",
    "print('r2_score :',r)"
   ]
  },
  {
   "cell_type": "code",
   "execution_count": 27,
   "id": "e8a54760",
   "metadata": {},
   "outputs": [
    {
     "name": "stdout",
     "output_type": "stream",
     "text": [
      "mean_squared_error : 0.3260637942800031\n",
      "Root_mean_squared_error : 0.5710199596161268\n",
      "mean_absolute_error : 0.44556251968801425\n",
      "R-Squared: 0.5347787118453993\n"
     ]
    }
   ],
   "source": [
    "# Testing data Evaluation\n",
    "y_test_pred = lr.predict(x_test)\n",
    "\n",
    "mse = mean_squared_error(y_test,y_test_pred)\n",
    "print('mean_squared_error :',mse)\n",
    "\n",
    "rmse = np.sqrt(mse)\n",
    "print('Root_mean_squared_error :',rmse)\n",
    "\n",
    "mae = mean_absolute_error(y_test,y_test_pred)\n",
    "print('mean_absolute_error :',mae)\n",
    "\n",
    "r2 = r2_score(y_test, y_test_pred)\n",
    "print('R-Squared:', r2)"
   ]
  },
  {
   "cell_type": "code",
   "execution_count": 31,
   "id": "e8e341e8",
   "metadata": {},
   "outputs": [],
   "source": [
    "import pickle\n",
    "with open('car_price_predction Model.pkl','wb')as f:\n",
    "    pickle.dump(lr,f)"
   ]
  },
  {
   "cell_type": "code",
   "execution_count": 29,
   "id": "e4c59b06",
   "metadata": {},
   "outputs": [
    {
     "data": {
      "text/plain": [
       "Index(['km_driven', 'fuel', 'seller_type', 'transmission', 'owner',\n",
       "       'car_brand_name_Audi', 'car_brand_name_BMW', 'car_brand_name_Chevrolet',\n",
       "       'car_brand_name_Daewoo', 'car_brand_name_Datsun', 'car_brand_name_Fiat',\n",
       "       'car_brand_name_Force', 'car_brand_name_Ford', 'car_brand_name_Honda',\n",
       "       'car_brand_name_Hyundai', 'car_brand_name_Isuzu',\n",
       "       'car_brand_name_Jaguar', 'car_brand_name_Jeep', 'car_brand_name_Kia',\n",
       "       'car_brand_name_Land', 'car_brand_name_MG', 'car_brand_name_Mahindra',\n",
       "       'car_brand_name_Maruti', 'car_brand_name_Mercedes-Benz',\n",
       "       'car_brand_name_Mitsubishi', 'car_brand_name_Nissan',\n",
       "       'car_brand_name_OpelCorsa', 'car_brand_name_Renault',\n",
       "       'car_brand_name_Skoda', 'car_brand_name_Tata', 'car_brand_name_Toyota',\n",
       "       'car_brand_name_Volkswagen', 'car_brand_name_Volvo'],\n",
       "      dtype='object')"
      ]
     },
     "execution_count": 29,
     "metadata": {},
     "output_type": "execute_result"
    }
   ],
   "source": [
    "x.columns"
   ]
  },
  {
   "cell_type": "code",
   "execution_count": 30,
   "id": "2b57bf8e",
   "metadata": {},
   "outputs": [
    {
     "data": {
      "text/plain": [
       "Index(['selling_price', 'km_driven', 'fuel', 'seller_type', 'transmission',\n",
       "       'owner', 'car_brand_name'],\n",
       "      dtype='object')"
      ]
     },
     "execution_count": 30,
     "metadata": {},
     "output_type": "execute_result"
    }
   ],
   "source": [
    "df.columns"
   ]
  },
  {
   "cell_type": "code",
   "execution_count": null,
   "id": "8fa0b527",
   "metadata": {},
   "outputs": [],
   "source": []
  }
 ],
 "metadata": {
  "kernelspec": {
   "display_name": "Python 3 (ipykernel)",
   "language": "python",
   "name": "python3"
  },
  "language_info": {
   "codemirror_mode": {
    "name": "ipython",
    "version": 3
   },
   "file_extension": ".py",
   "mimetype": "text/x-python",
   "name": "python",
   "nbconvert_exporter": "python",
   "pygments_lexer": "ipython3",
   "version": "3.9.12"
  }
 },
 "nbformat": 4,
 "nbformat_minor": 5
}
